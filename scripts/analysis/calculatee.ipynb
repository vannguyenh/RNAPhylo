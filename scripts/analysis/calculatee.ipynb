import os
import numpy as np
import pandas as pd
import matplotlib.pyplot as plt
import seaborn as sns
from sklearn.preprocessing import normalize

# Function to read RF distance values from a file
def read_rfdist(file_path):
    with open(file_path, 'r') as file:
        lines = file.readlines()
        # Skip the first line and read the matrix
        matrix_lines = lines[1:]
        # Initialize an empty list to store the rows of the matrix
        rf_matrix = []
        # Parse each line to extract the distances
        for line in matrix_lines:
            parts = line.strip().split()[1:]  # Skip the tree label (e.g., "Tree0") and split by spaces
            distances = list(map(float, parts))  # Convert each part to a float
            rf_matrix.append(distances)

        # Convert the list of rows into a NumPy array for easy manipulation
        rf_matrix = np.array(rf_matrix)
    return rf_matrix

# Function to normalize RF distance values
def normalised_RF(finput):
    finput_matrix = read_rfdist(finput)
    norm_finput = normalize(finput_matrix, norm='l2')
    return norm_finput.flatten()  # Flatten the normalized matrix to a single list


def calculate_mean_median_normalized_RF(finput):
    finput_matrix=read_rfdist(finput)
    norm_finput=normalize(finput_matrix, norm='l2')
    mean_norm=np.mean(np.array(norm_finput))
    median_norm=np.median(np.array(norm_finput))
    return mean_norm, median_norm

# List of suffixes to look for in the files
suffixes = ['raxml.rfdist', 'raxml.raxmlPw.rfdist', 'raxmlPw.rfdist']

categories={
    "raxml.rfdist":'DNA vs DNA',
    'raxml.raxmlPw.rfdist':'DNA vs RNA',
    'raxmlPw.rfdist':'RNA vs RNA'
}

# Base directory containing all RNA directories
#directory = '/Users/u7875558/Documents/PhD/Rfam/RfamPhylo/analysis/outputs/results/results_RAxMLs/outputs/combinedFiles'
directory='/Users/u7875558/Library/CloudStorage/OneDrive-AustralianNationalUniversity/Documents/PhD/RNAPhylo/output_analysis'
# List to store parsed data
pseudo_data = []

# Loop through each RNA directory
for rna in accepted_pseudo:
    #if rna_dir in rf_pseudo:
    rna_path = os.path.join(directory, rna)
    if os.path.isdir(rna_path):
    # Loop through each relevant file in the RNA directory
        for file in os.listdir(rna_path):
            for suffix in categories.keys():
                if file==f'{rna}.{suffix}':
                    rf_mean_distances, rf_median_distances=calculate_mean_median_normalized_RF(os.path.join(rna_path, file))
                    pseudo_data.append(
                        {
                            'RNA': rna,
                            'Category': categories[suffix],
                            'Mean RF Distance': rf_mean_distances,
                            'Median RF Distance': rf_median_distances
                        }
                    )
# Convert to DataFrame
df_pseu_data = pd.DataFrame(pseudo_data).drop_duplicates()

df_pseu_data
