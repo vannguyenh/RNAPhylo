{
 "cells": [
  {
   "cell_type": "markdown",
   "id": "2c01c630-51ee-4b6f-bc6a-e72e44bdf639",
   "metadata": {},
   "source": [
    "# Control the number of files with computed consel files -- There should be in total 7 files"
   ]
  },
  {
   "cell_type": "code",
   "execution_count": 45,
   "id": "92f12ffd-d451-4ee3-9433-2b4a7f0630d6",
   "metadata": {},
   "outputs": [
    {
     "data": {
      "text/plain": [
       "{'consider_pseudo': [],\n",
       " 'ignore_pseudo': ['RF00177', 'RF02345', 'RF02401', 'RF02540', 'RF02842']}"
      ]
     },
     "execution_count": 45,
     "metadata": {},
     "output_type": "execute_result"
    }
   ],
   "source": [
    "from os.path import join \n",
    "import os\n",
    "\n",
    "DIR_WORKING = '/Users/u7875558/Documents/PhD/RNAPhylo/allModels_SEED/'\n",
    "DIR_OUTPUTS = join(DIR_WORKING, 'outputs')\n",
    "MODEL = 'S16B'\n",
    "DIR_CONSEL = join(DIR_OUTPUTS, 'AU_Test', MODEL)\n",
    "\n",
    "\n",
    "LOG_FILE='/Users/u7875558/Documents/PhD/RNAPhylo/allModels_SEED/logs/2025-03-21_10-08-12.log'\n",
    "SUBFOLDERS=['consider_pseudo', 'ignore_pseudo']\n",
    "suffixes = {'consider_pseudo': 'wpseu_consel', 'ignore_pseudo': 'ipseu_consel'}\n",
    "issue_str_rna = ['RF00207', 'RF00390', 'RF01380', 'RF01338', 'RF01047', 'RF03760', 'RF03969', 'RF00976', 'RF03623']\n",
    "\n",
    "# control if the right consel file was produced\n",
    "def check_consel_output(dir_consel, groups):\n",
    "    #dir_consel_gr = join(dir_consel, group)\n",
    "    rnas = os.listdir(join(DIR_OUTPUTS, MODEL, 'raxml'))\n",
    "    prob_rnas = dict()\n",
    "    for group in groups:\n",
    "        issue_rnas = list()\n",
    "        dir_consel_gr = join(dir_consel, group)\n",
    "        for rna in os.listdir(dir_consel_gr):\n",
    "            consel_rna_path = join(dir_consel_gr, rna)\n",
    "            consel_files = 0\n",
    "            for f in os.listdir(consel_rna_path):\n",
    "                if suffixes[group] in f:\n",
    "                    consel_files += 1\n",
    "            if consel_files != 4:\n",
    "                issue_rnas.append(rna)\n",
    "        prob_rnas[group] = sorted(issue_rnas)\n",
    "    return prob_rnas\n",
    "\n",
    "check_consel_output(DIR_CONSEL, SUBFOLDERS)"
   ]
  },
  {
   "cell_type": "code",
   "execution_count": null,
   "id": "1c663e66-858b-49be-baa1-35585daac420",
   "metadata": {},
   "outputs": [],
   "source": []
  },
  {
   "cell_type": "code",
   "execution_count": 24,
   "id": "e48cc0fd-a7ee-4042-96bf-69acf3070c6c",
   "metadata": {},
   "outputs": [
    {
     "name": "stdout",
     "output_type": "stream",
     "text": [
      "1788 72 1716 1782 71\n"
     ]
    }
   ],
   "source": [
    "def check_branch_length(diroutput, rna):\n",
    "    expected_files = [f\"{i:02d}\" for i in range(1, 11)]\n",
    "    dirRNA = os.path.join(diroutput, rna)\n",
    "\n",
    "    delete_files = list()\n",
    "    for file_name in os.listdir(dirRNA):\n",
    "        for seed in expected_files:\n",
    "            if file_name.startswith('RAxML_bestTree') and file_name.endswith(seed):\n",
    "                tree_path = os.path.join(dirRNA, file_name)\n",
    "                tree = Phylo.read(tree_path, 'newick')\n",
    "                for clade in tree.find_clades():\n",
    "                    if clade.branch_length and clade.branch_length > 1:\n",
    "                        delete_files.append(file_name)\n",
    "    \n",
    "    if len(delete_files) > 0:\n",
    "        return rna\n",
    "\n",
    "def extractAnalysedRNAs(diroutput, log_file):\n",
    "    # This function produces two sets of accepted RNAs -- RNAs containing pseudoknots and RNAs containing no pseudoknots    \n",
    "    # extract accepted RNAs which do not have any branch length > 1\n",
    "    rnas = os.listdir(join(diroutput, SUBFOLDERS[-1]))\n",
    "    \n",
    "    unaccepted_rnas=list()\n",
    "    accepted_rnas=list()\n",
    "    \n",
    "    for rna in rnas:\n",
    "        # consider only the outputs from using DNA\n",
    "        dir_working = join(diroutput, SUBFOLDERS[1])\n",
    "        if check_branch_length(dir_working, rna) == rna:\n",
    "            unaccepted_rnas.append(rna)\n",
    "        else:\n",
    "            accepted_rnas.append(rna)\n",
    "\n",
    "    # extract RNAs containing pseudoknots\n",
    "    with open(log_file, 'r') as f:\n",
    "        lines=f.readlines()\n",
    "\n",
    "    nopseudo_rnas = [line.split()[5] for line in lines if 'not have pseudoknots' in line ]\n",
    "    accepted_nopseudo=set(accepted_rnas) & set(nopseudo_rnas)\n",
    "    \n",
    "    pseudo_rnas = set(rnas)-set(nopseudo_rnas)\n",
    "    accepted_pseudo = set(accepted_rnas) & set(pseudo_rnas)\n",
    "    \n",
    "    issue_str_rnas = ['RF00207', 'RF00390', 'RF01380', 'RF01338', 'RF01047', 'RF03760', 'RF03969', 'RF00976', 'RF03623']\n",
    "    issue_consel_rnas = ['RF02401', 'RF00177', 'RF02842', 'RF02540', 'RF02345']\n",
    "    working_rnas = set(accepted_rnas) - set(issue_str_rnas) - set(issue_consel_rnas)\n",
    "    working_pseudo = set(accepted_pseudo) - set(issue_str_rnas) - set(issue_consel_rnas)\n",
    "    \n",
    "    return accepted_rnas, accepted_pseudo, accepted_nopseudo, working_rnas, working_pseudo\n",
    "\n",
    "accepted_rnas, accepted_pseudo, accepted_nopseudo, rnas, pseudo = extractAnalysedRNAs(DIR_CONSEL, LOG_FILE)\n",
    "print(len(accepted_rnas), len(accepted_pseudo), len(accepted_nopseudo), len(rnas), len(pseudo))"
   ]
  },
  {
   "cell_type": "code",
   "execution_count": 27,
   "id": "7c5206ed-353f-400c-9411-133e15b73e97",
   "metadata": {},
   "outputs": [
    {
     "name": "stderr",
     "output_type": "stream",
     "text": [
      "/var/folders/7l/28yzqfm93j105y85x5rns4bryc93vy/T/ipykernel_30197/2618052383.py:60: FutureWarning: The behavior of DataFrame concatenation with empty or all-NA entries is deprecated. In a future version, this will no longer exclude empty or all-NA columns when determining the result dtypes. To retain the old behavior, exclude the relevant entries before the concat operation.\n",
      "  all_rnas_ipseu_df = pd.concat([all_rnas_ipseu_df, df], ignore_index=True)\n"
     ]
    },
    {
     "name": "stdout",
     "output_type": "stream",
     "text": [
      "          RNA rank item  p-value\n",
      "0     RF00467    1  RNA    0.507\n",
      "1     RF00467    2  DNA    0.493\n",
      "2     RF00711    1  RNA    0.857\n",
      "3     RF00711    2  DNA    0.143\n",
      "4     RF00019    1  RNA    0.614\n",
      "...       ...  ...  ...      ...\n",
      "3559  RF01014    2  DNA    0.014\n",
      "3560  RF01084    1  RNA    0.812\n",
      "3561  RF01084    2  DNA    0.188\n",
      "3562  RF00231    1  RNA    0.593\n",
      "3563  RF00231    2  DNA    0.407\n",
      "\n",
      "[3564 rows x 4 columns]\n"
     ]
    }
   ],
   "source": [
    "import pandas as pd\n",
    "import subprocess\n",
    "\n",
    "# Function to parse the consel output file using catpv\n",
    "def parse_consel_output(file_path, rna_id):\n",
    "    # Run the catpv command and capture its output\n",
    "    result = subprocess.run(\n",
    "        [\"/Users/u7875558/Documents/PhD/tools/consel/bin/catpv\", file_path],\n",
    "        stdout=subprocess.PIPE,\n",
    "        text=True\n",
    "    )\n",
    "    \n",
    "    # Print the raw output from catpv for debugging\n",
    "    #print(\"Raw catpv output:\")\n",
    "    #print(result.stdout)\n",
    "    \n",
    "    # Extract the relevant lines from the output\n",
    "    lines = result.stdout.splitlines()\n",
    "    \n",
    "    # Initialize lists to store the extracted data\n",
    "    ranks=[]\n",
    "    items = []\n",
    "    p_values = []\n",
    "    \n",
    "    for line in lines:\n",
    "        line = line.strip()\n",
    "        # Only process lines that contain data and start with \"# \" followed by numbers\n",
    "        if line.startswith(\"#\") and line[1:].strip()[0].isdigit():\n",
    "            #print(f\"Processing line: {line}\")  # Debugging print\n",
    "            columns = line[1:].split()  # Remove leading \"# \" and split columns\n",
    "            #print(f\"Columns extracted: {columns}\")  # Debugging print\n",
    "            ranks.append(columns[0])\n",
    "\n",
    "            if columns[1] == '1':\n",
    "                items.append('DNA')\n",
    "            else:\n",
    "                items.append('RNA')\n",
    "            #items.append(columns[1])  # Item column\n",
    "            p_values.append(float(columns[3]))  # AU column\n",
    "    \n",
    "    # Create a DataFrame with the extracted data\n",
    "    df = pd.DataFrame({\n",
    "        'RNA': [rna_id] * len(items),\n",
    "        'rank': ranks, \n",
    "        'item': items,\n",
    "        'p-value': p_values\n",
    "    })\n",
    "    return df\n",
    "\n",
    "# Initialize an empty DataFrame to store all results\n",
    "all_rnas_ipseu_df = pd.DataFrame(columns=['RNA', 'rank', 'item', 'p-value'])\n",
    "\n",
    "# Process each RNA file\n",
    "for rna_id in rnas:\n",
    "    file_path = os.path.join(DIR_CONSEL,  \"ignore_pseudo\", rna_id, f\"{rna_id}_ipseu_consel.pv\")\n",
    "    \n",
    "    # Check if the file exists before processing\n",
    "    if os.path.exists(file_path):\n",
    "        df = parse_consel_output(file_path, rna_id)\n",
    "        all_rnas_ipseu_df = pd.concat([all_rnas_ipseu_df, df], ignore_index=True)\n",
    "    else:\n",
    "        print(f\"File {file_path} not found, skipping.\")\n",
    "\n",
    "# Display the combined DataFrame for all RNAs\n",
    "all_rnas_ipseu_df"
   ]
  },
  {
   "cell_type": "code",
   "execution_count": 31,
   "id": "b38f3de9-c847-4bd9-8440-3c3884f852b8",
   "metadata": {},
   "outputs": [
    {
     "data": {
      "text/plain": [
       "189"
      ]
     },
     "execution_count": 31,
     "metadata": {},
     "output_type": "execute_result"
    }
   ],
   "source": [
    "len(all_rnas_ipseu_df[all_rnas_ipseu_df['p-value'] < 0.05]['RNA'].tolist())"
   ]
  },
  {
   "cell_type": "markdown",
   "id": "c590402e-f83d-44bd-8f31-38ce0726335c",
   "metadata": {},
   "source": [
    "# "
   ]
  }
 ],
 "metadata": {
  "kernelspec": {
   "display_name": "Python 3 (ipykernel)",
   "language": "python",
   "name": "python3"
  },
  "language_info": {
   "codemirror_mode": {
    "name": "ipython",
    "version": 3
   },
   "file_extension": ".py",
   "mimetype": "text/x-python",
   "name": "python",
   "nbconvert_exporter": "python",
   "pygments_lexer": "ipython3",
   "version": "3.12.2"
  }
 },
 "nbformat": 4,
 "nbformat_minor": 5
}
